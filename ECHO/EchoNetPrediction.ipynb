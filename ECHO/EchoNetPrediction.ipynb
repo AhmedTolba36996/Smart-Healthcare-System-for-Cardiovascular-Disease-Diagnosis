{
 "cells": [
  {
   "cell_type": "code",
   "execution_count": 1,
   "metadata": {},
   "outputs": [],
   "source": [
    "import numpy as np\n",
    "import os\n",
    "import pandas as pd\n",
    "import cv2\n",
    "import matplotlib.pyplot as plt\n",
    "from tqdm import tqdm\n",
    "import tensorflow as tf"
   ]
  },
  {
   "cell_type": "code",
   "execution_count": 2,
   "metadata": {},
   "outputs": [],
   "source": [
    "train_data = pd.read_csv(\"E:\\Echo Dynamic\\EchoNet-Dynamic\\FileList.csv\")"
   ]
  },
  {
   "cell_type": "code",
   "execution_count": 3,
   "metadata": {},
   "outputs": [
    {
     "data": {
      "text/html": [
       "<div>\n",
       "<style scoped>\n",
       "    .dataframe tbody tr th:only-of-type {\n",
       "        vertical-align: middle;\n",
       "    }\n",
       "\n",
       "    .dataframe tbody tr th {\n",
       "        vertical-align: top;\n",
       "    }\n",
       "\n",
       "    .dataframe thead th {\n",
       "        text-align: right;\n",
       "    }\n",
       "</style>\n",
       "<table border=\"1\" class=\"dataframe\">\n",
       "  <thead>\n",
       "    <tr style=\"text-align: right;\">\n",
       "      <th></th>\n",
       "      <th>FileName</th>\n",
       "      <th>EF</th>\n",
       "      <th>ESV</th>\n",
       "      <th>EDV</th>\n",
       "      <th>FrameHeight</th>\n",
       "      <th>FrameWidth</th>\n",
       "      <th>FPS</th>\n",
       "      <th>NumberOfFrames</th>\n",
       "      <th>Split</th>\n",
       "    </tr>\n",
       "  </thead>\n",
       "  <tbody>\n",
       "    <tr>\n",
       "      <th>0</th>\n",
       "      <td>0X100009310A3BD7FC</td>\n",
       "      <td>78.498406</td>\n",
       "      <td>14.881368</td>\n",
       "      <td>69.210534</td>\n",
       "      <td>112</td>\n",
       "      <td>112</td>\n",
       "      <td>50</td>\n",
       "      <td>174</td>\n",
       "      <td>VAL</td>\n",
       "    </tr>\n",
       "    <tr>\n",
       "      <th>1</th>\n",
       "      <td>0X1002E8FBACD08477</td>\n",
       "      <td>59.101988</td>\n",
       "      <td>40.383876</td>\n",
       "      <td>98.742884</td>\n",
       "      <td>112</td>\n",
       "      <td>112</td>\n",
       "      <td>50</td>\n",
       "      <td>215</td>\n",
       "      <td>TRAIN</td>\n",
       "    </tr>\n",
       "    <tr>\n",
       "      <th>2</th>\n",
       "      <td>0X1005D03EED19C65B</td>\n",
       "      <td>62.363798</td>\n",
       "      <td>14.267784</td>\n",
       "      <td>37.909734</td>\n",
       "      <td>112</td>\n",
       "      <td>112</td>\n",
       "      <td>50</td>\n",
       "      <td>104</td>\n",
       "      <td>TRAIN</td>\n",
       "    </tr>\n",
       "    <tr>\n",
       "      <th>3</th>\n",
       "      <td>0X10075961BC11C88E</td>\n",
       "      <td>54.545097</td>\n",
       "      <td>33.143084</td>\n",
       "      <td>72.914210</td>\n",
       "      <td>112</td>\n",
       "      <td>112</td>\n",
       "      <td>55</td>\n",
       "      <td>122</td>\n",
       "      <td>TRAIN</td>\n",
       "    </tr>\n",
       "    <tr>\n",
       "      <th>4</th>\n",
       "      <td>0X10094BA0A028EAC3</td>\n",
       "      <td>24.887742</td>\n",
       "      <td>127.581945</td>\n",
       "      <td>169.855024</td>\n",
       "      <td>112</td>\n",
       "      <td>112</td>\n",
       "      <td>52</td>\n",
       "      <td>207</td>\n",
       "      <td>VAL</td>\n",
       "    </tr>\n",
       "    <tr>\n",
       "      <th>...</th>\n",
       "      <td>...</td>\n",
       "      <td>...</td>\n",
       "      <td>...</td>\n",
       "      <td>...</td>\n",
       "      <td>...</td>\n",
       "      <td>...</td>\n",
       "      <td>...</td>\n",
       "      <td>...</td>\n",
       "      <td>...</td>\n",
       "    </tr>\n",
       "    <tr>\n",
       "      <th>10025</th>\n",
       "      <td>0X234005774F4CB5CD</td>\n",
       "      <td>51.724743</td>\n",
       "      <td>47.065329</td>\n",
       "      <td>97.493690</td>\n",
       "      <td>768</td>\n",
       "      <td>1040</td>\n",
       "      <td>50</td>\n",
       "      <td>127</td>\n",
       "      <td>TRAIN</td>\n",
       "    </tr>\n",
       "    <tr>\n",
       "      <th>10026</th>\n",
       "      <td>0X2DC68261CBCC04AE</td>\n",
       "      <td>62.187781</td>\n",
       "      <td>26.333478</td>\n",
       "      <td>69.642772</td>\n",
       "      <td>768</td>\n",
       "      <td>1024</td>\n",
       "      <td>50</td>\n",
       "      <td>66</td>\n",
       "      <td>TRAIN</td>\n",
       "    </tr>\n",
       "    <tr>\n",
       "      <th>10027</th>\n",
       "      <td>0X35291BE9AB90FB89</td>\n",
       "      <td>62.070762</td>\n",
       "      <td>49.064338</td>\n",
       "      <td>129.357561</td>\n",
       "      <td>768</td>\n",
       "      <td>1024</td>\n",
       "      <td>50</td>\n",
       "      <td>208</td>\n",
       "      <td>TRAIN</td>\n",
       "    </tr>\n",
       "    <tr>\n",
       "      <th>10028</th>\n",
       "      <td>0X6C435C1B417FDE8A</td>\n",
       "      <td>59.635257</td>\n",
       "      <td>57.721170</td>\n",
       "      <td>142.998978</td>\n",
       "      <td>768</td>\n",
       "      <td>1024</td>\n",
       "      <td>50</td>\n",
       "      <td>166</td>\n",
       "      <td>TRAIN</td>\n",
       "    </tr>\n",
       "    <tr>\n",
       "      <th>10029</th>\n",
       "      <td>0X5515B0BD077BE68A</td>\n",
       "      <td>46.019994</td>\n",
       "      <td>27.260394</td>\n",
       "      <td>50.500910</td>\n",
       "      <td>768</td>\n",
       "      <td>1024</td>\n",
       "      <td>50</td>\n",
       "      <td>126</td>\n",
       "      <td>TRAIN</td>\n",
       "    </tr>\n",
       "  </tbody>\n",
       "</table>\n",
       "<p>10030 rows × 9 columns</p>\n",
       "</div>"
      ],
      "text/plain": [
       "                 FileName         EF         ESV         EDV  FrameHeight  \\\n",
       "0      0X100009310A3BD7FC  78.498406   14.881368   69.210534          112   \n",
       "1      0X1002E8FBACD08477  59.101988   40.383876   98.742884          112   \n",
       "2      0X1005D03EED19C65B  62.363798   14.267784   37.909734          112   \n",
       "3      0X10075961BC11C88E  54.545097   33.143084   72.914210          112   \n",
       "4      0X10094BA0A028EAC3  24.887742  127.581945  169.855024          112   \n",
       "...                   ...        ...         ...         ...          ...   \n",
       "10025  0X234005774F4CB5CD  51.724743   47.065329   97.493690          768   \n",
       "10026  0X2DC68261CBCC04AE  62.187781   26.333478   69.642772          768   \n",
       "10027  0X35291BE9AB90FB89  62.070762   49.064338  129.357561          768   \n",
       "10028  0X6C435C1B417FDE8A  59.635257   57.721170  142.998978          768   \n",
       "10029  0X5515B0BD077BE68A  46.019994   27.260394   50.500910          768   \n",
       "\n",
       "       FrameWidth  FPS  NumberOfFrames  Split  \n",
       "0             112   50             174    VAL  \n",
       "1             112   50             215  TRAIN  \n",
       "2             112   50             104  TRAIN  \n",
       "3             112   55             122  TRAIN  \n",
       "4             112   52             207    VAL  \n",
       "...           ...  ...             ...    ...  \n",
       "10025        1040   50             127  TRAIN  \n",
       "10026        1024   50              66  TRAIN  \n",
       "10027        1024   50             208  TRAIN  \n",
       "10028        1024   50             166  TRAIN  \n",
       "10029        1024   50             126  TRAIN  \n",
       "\n",
       "[10030 rows x 9 columns]"
      ]
     },
     "execution_count": 3,
     "metadata": {},
     "output_type": "execute_result"
    }
   ],
   "source": [
    "train_data"
   ]
  },
  {
   "cell_type": "code",
   "execution_count": 4,
   "metadata": {},
   "outputs": [],
   "source": [
    "train_data = train_data[train_data.columns[0:2]]\n"
   ]
  },
  {
   "cell_type": "code",
   "execution_count": 5,
   "metadata": {},
   "outputs": [],
   "source": [
    "train_4CH_dir = \"E:\\\\Echo Dynamic\\\\EchoNet-Dynamic\\\\Videos_test\\\\\""
   ]
  },
  {
   "cell_type": "code",
   "execution_count": 6,
   "metadata": {},
   "outputs": [],
   "source": [
    "def crop_center_square(frame):\n",
    "    y, x = frame.shape[0:2]\n",
    "    min_dim = min(y, x)\n",
    "    start_x = (x // 2) - (min_dim // 2)\n",
    "    start_y = (y // 2) - (min_dim // 2)\n",
    "    return frame[start_y : start_y + min_dim, start_x : start_x + min_dim]\n",
    "\n",
    "\n",
    "def load_video(path, max_frames=50, resize=(112, 112)):\n",
    "    cap = cv2.VideoCapture(path)\n",
    "    frames = []\n",
    "    try:\n",
    "        while True:\n",
    "            ret, frame = cap.read()\n",
    "            if not ret:\n",
    "                break\n",
    "            frame = crop_center_square(frame)\n",
    "            frame = cv2.resize(frame, resize)\n",
    "            frame = frame[:, :, [2, 1, 0]]\n",
    "            frames.append(frame)\n",
    "\n",
    "            if len(frames) == max_frames:\n",
    "                break\n",
    "    finally:\n",
    "        cap.release()\n",
    "    return np.array(frames)"
   ]
  },
  {
   "cell_type": "code",
   "execution_count": 7,
   "metadata": {
    "scrolled": true
   },
   "outputs": [
    {
     "name": "stdout",
     "output_type": "stream",
     "text": [
      "0X1A05DFFFCAFB253B.avi\n",
      "0X1A0A263B22CCD966.avi\n",
      "0X1A2A76BDB5B98BED.avi\n",
      "0X1A2C60147AF9FDAE.avi\n",
      "0X1A2E9496910EFF5B.avi\n",
      "0X1A3D565B371DC573.avi\n",
      "0X1A3E7BF1DFB132FB.avi\n",
      "0X1A5FAE3F9D37794E.avi\n",
      "0X1A6ACFE7B286DAFC.avi\n",
      "0X1A8D85542DBE8204.avi\n"
     ]
    }
   ],
   "source": [
    "import glob as gb\n",
    "\n",
    "videos = []\n",
    "label = []\n",
    "\n",
    "for folder in  os.listdir(train_4CH_dir) : \n",
    "    #files = gb.glob(pathname= str( train_4CH_dir+ '/*.avi'))\n",
    "    #print(folder)\n",
    "    videos.append(folder)\n",
    "    label.append(train_data[train_data[\"FileName\"]==folder.split(\".\")[0]])\n",
    "    "
   ]
  },
  {
   "cell_type": "code",
   "execution_count": 9,
   "metadata": {},
   "outputs": [],
   "source": [
    "d = np.array(label)"
   ]
  },
  {
   "cell_type": "code",
   "execution_count": 11,
   "metadata": {},
   "outputs": [],
   "source": [
    "xtrain = []\n",
    "ytrain = []\n",
    "train_image = []\n",
    "for i in range(10):\n",
    "    xtrain.append(load_video(train_4CH_dir+videos[i]))\n",
    "    for j in range(xtrain[i].shape[0]):\n",
    "        ytrain.append(d[i][0][1])    \n",
    "        # appending the image to the train_image list\n",
    "        train_image.append(xtrain[i][j])\n"
   ]
  },
  {
   "cell_type": "code",
   "execution_count": 12,
   "metadata": {},
   "outputs": [],
   "source": [
    "X = np.array(train_image[:500])\n",
    "Y = np.array(ytrain[:500])"
   ]
  },
  {
   "cell_type": "code",
   "execution_count": 13,
   "metadata": {},
   "outputs": [
    {
     "name": "stdout",
     "output_type": "stream",
     "text": [
      "500\n",
      "500\n"
     ]
    }
   ],
   "source": [
    "print(len(train_image))\n",
    "print(len(ytrain))"
   ]
  },
  {
   "cell_type": "code",
   "execution_count": 14,
   "metadata": {},
   "outputs": [],
   "source": [
    "from sklearn.model_selection import train_test_split\n",
    "\n",
    "X_train, X_test, y_train, y_test = train_test_split(X, Y, random_state=42, test_size=0.2)"
   ]
  },
  {
   "cell_type": "code",
   "execution_count": 15,
   "metadata": {},
   "outputs": [
    {
     "data": {
      "text/plain": [
       "(400, 112, 112, 3)"
      ]
     },
     "execution_count": 15,
     "metadata": {},
     "output_type": "execute_result"
    }
   ],
   "source": [
    "#X_train = base_model.predict(image)\n",
    "X_train.shape"
   ]
  },
  {
   "cell_type": "code",
   "execution_count": 16,
   "metadata": {},
   "outputs": [
    {
     "data": {
      "text/plain": [
       "(400,)"
      ]
     },
     "execution_count": 16,
     "metadata": {},
     "output_type": "execute_result"
    }
   ],
   "source": [
    "#X_train = base_model.predict(image)\n",
    "y_train.shape"
   ]
  },
  {
   "cell_type": "code",
   "execution_count": 17,
   "metadata": {},
   "outputs": [
    {
     "data": {
      "text/plain": [
       "(100, 112, 112, 3)"
      ]
     },
     "execution_count": 17,
     "metadata": {},
     "output_type": "execute_result"
    }
   ],
   "source": [
    "X_test.shape"
   ]
  },
  {
   "cell_type": "code",
   "execution_count": 18,
   "metadata": {},
   "outputs": [
    {
     "data": {
      "text/plain": [
       "(100,)"
      ]
     },
     "execution_count": 18,
     "metadata": {},
     "output_type": "execute_result"
    }
   ],
   "source": [
    "y_test.shape"
   ]
  },
  {
   "cell_type": "code",
   "execution_count": 19,
   "metadata": {},
   "outputs": [],
   "source": [
    "import tensorflow as tf\n",
    "model = tf.keras.models.Sequential()\n",
    "model.add(\n",
    "    tf.keras.layers.TimeDistributed(\n",
    "        tf.keras.layers.Conv2D(32, (3,3), activation='relu'), \n",
    "        input_shape=(1,112, 112, 3) # 5 images...\n",
    "    )\n",
    ")\n",
    "model.add(\n",
    "    tf.keras.layers.TimeDistributed(\n",
    "        tf.keras.layers.GlobalAveragePooling2D() # Or Flatten()\n",
    "    )\n",
    ")\n",
    "model.add(\n",
    "    tf.keras.layers.LSTM(32, activation='relu', return_sequences=False)\n",
    ")\n",
    "model.add(tf.keras.layers.Dense(1, activation='linear'))\n",
    "model.compile('adam', loss='mse', metrics=[tf.keras.metrics.RootMeanSquaredError()])"
   ]
  },
  {
   "cell_type": "code",
   "execution_count": 20,
   "metadata": {},
   "outputs": [],
   "source": [
    "X_train = X_train.reshape(400,1,112,112,3)\n"
   ]
  },
  {
   "cell_type": "code",
   "execution_count": 21,
   "metadata": {},
   "outputs": [
    {
     "data": {
      "text/plain": [
       "(400,)"
      ]
     },
     "execution_count": 21,
     "metadata": {},
     "output_type": "execute_result"
    }
   ],
   "source": [
    "y_train.shape"
   ]
  },
  {
   "cell_type": "code",
   "execution_count": 22,
   "metadata": {},
   "outputs": [],
   "source": [
    "y_train = y_train.reshape(400,1)"
   ]
  },
  {
   "cell_type": "code",
   "execution_count": 23,
   "metadata": {},
   "outputs": [
    {
     "name": "stdout",
     "output_type": "stream",
     "text": [
      "Epoch 1/20\n",
      "400/400 [==============================] - 8s 14ms/step - loss: 592.6508 - root_mean_squared_error: 24.3444\n",
      "Epoch 2/20\n",
      "400/400 [==============================] - 5s 13ms/step - loss: 280.2415 - root_mean_squared_error: 16.7404\n",
      "Epoch 3/20\n",
      "400/400 [==============================] - 5s 13ms/step - loss: 220.0276 - root_mean_squared_error: 14.8333\n",
      "Epoch 4/20\n",
      "400/400 [==============================] - 6s 14ms/step - loss: 132.7310 - root_mean_squared_error: 11.5209\n",
      "Epoch 5/20\n",
      "400/400 [==============================] - 5s 14ms/step - loss: 77.3472 - root_mean_squared_error: 8.7947\n",
      "Epoch 6/20\n",
      "400/400 [==============================] - 6s 14ms/step - loss: 62.1007 - root_mean_squared_error: 7.8804\n",
      "Epoch 7/20\n",
      "400/400 [==============================] - 7s 18ms/step - loss: 49.9162 - root_mean_squared_error: 7.0651\n",
      "Epoch 8/20\n",
      "400/400 [==============================] - 5s 13ms/step - loss: 45.0588 - root_mean_squared_error: 6.7126\n",
      "Epoch 9/20\n",
      "400/400 [==============================] - 7s 19ms/step - loss: 40.4172 - root_mean_squared_error: 6.3575\n",
      "Epoch 10/20\n",
      "400/400 [==============================] - 6s 14ms/step - loss: 38.9939 - root_mean_squared_error: 6.2445 0s - loss: 39.1429 - root_mean_squared\n",
      "Epoch 11/20\n",
      "400/400 [==============================] - 5s 13ms/step - loss: 38.2249 - root_mean_squared_error: 6.1826 0s - loss: 38.0691 - r\n",
      "Epoch 12/20\n",
      "400/400 [==============================] - 8s 19ms/step - loss: 37.5123 - root_mean_squared_error: 6.1247\n",
      "Epoch 13/20\n",
      "400/400 [==============================] - 5s 14ms/step - loss: 30.3197 - root_mean_squared_error: 5.5063\n",
      "Epoch 14/20\n",
      "400/400 [==============================] - 7s 18ms/step - loss: 27.6408 - root_mean_squared_error: 5.2575\n",
      "Epoch 15/20\n",
      "400/400 [==============================] - 5s 13ms/step - loss: 22.2867 - root_mean_squared_error: 4.7209\n",
      "Epoch 16/20\n",
      "400/400 [==============================] - 8s 19ms/step - loss: 19.7100 - root_mean_squared_error: 4.4396\n",
      "Epoch 17/20\n",
      "400/400 [==============================] - 8s 19ms/step - loss: 18.2732 - root_mean_squared_error: 4.2747\n",
      "Epoch 18/20\n",
      "400/400 [==============================] - 5s 12ms/step - loss: 15.6066 - root_mean_squared_error: 3.9505\n",
      "Epoch 19/20\n",
      "400/400 [==============================] - 7s 18ms/step - loss: 16.4859 - root_mean_squared_error: 4.0603 3s - loss: 18.7729 - roo\n",
      "Epoch 20/20\n",
      "400/400 [==============================] - 5s 13ms/step - loss: 14.8729 - root_mean_squared_error: 3.8565\n"
     ]
    }
   ],
   "source": [
    "batch_size = 1\n",
    "num_epoch = 20\n",
    "#steps = len(os.listdir(train_4CH_dir))//batch_size\n",
    "history = model.fit(X_train,y_train, epochs=num_epoch, batch_size=batch_size,\n",
    "                            verbose=1)"
   ]
  },
  {
   "cell_type": "code",
   "execution_count": 24,
   "metadata": {},
   "outputs": [
    {
     "data": {
      "image/png": "[encoded data removed]",
      "text/plain": [
       "<Figure size 2160x720 with 2 Axes>"
      ]
     },
     "metadata": {
      "needs_background": "light"
     },
     "output_type": "display_data"
    }
   ],
   "source": [
    "fig, (ax1, ax2) = plt.subplots(1, 2)\n",
    "fig.set_figheight(10)\n",
    "fig.set_figwidth(30)\n",
    "ax1.plot(history.history[\"loss\"])\n",
    "ax1.set_title(\"Loss\")\n",
    "ax2.plot(history.history[\"root_mean_squared_error\"])\n",
    "ax2.set_title(\"RMSE\")\n",
    "plt.show()"
   ]
  },
  {
   "cell_type": "code",
   "execution_count": 25,
   "metadata": {},
   "outputs": [],
   "source": [
    "X_test = X_test.reshape(100,1,112,112,3)\n",
    "y_test = y_test.reshape(100,1)"
   ]
  },
  {
   "cell_type": "code",
   "execution_count": 26,
   "metadata": {},
   "outputs": [],
   "source": [
    "y_pred = model.predict(X_test)"
   ]
  },
  {
   "cell_type": "code",
   "execution_count": 27,
   "metadata": {},
   "outputs": [
    {
     "name": "stdout",
     "output_type": "stream",
     "text": [
      "13/13 [==============================] - 2s 115ms/step - loss: 13.5538 - root_mean_squared_error: 3.6816\n",
      " Train Score is :  [13.553823471069336, 3.681551694869995]\n",
      "4/4 [==============================] - 0s 81ms/step - loss: 17.0304 - root_mean_squared_error: 4.1268\n",
      " Test Score is :  [17.03037452697754, 4.1267876625061035]\n"
     ]
    }
   ],
   "source": [
    "#Calculating Details\n",
    "print(' Train Score is : ' , model.evaluate(X_train, y_train))\n",
    "print(' Test Score is : ' , model.evaluate(X_test, y_test))"
   ]
  },
  {
   "cell_type": "code",
   "execution_count": 28,
   "metadata": {},
   "outputs": [
    {
     "data": {
      "text/plain": [
       "array([51.78344], dtype=float32)"
      ]
     },
     "execution_count": 28,
     "metadata": {},
     "output_type": "execute_result"
    }
   ],
   "source": [
    "y_pred[0]"
   ]
  },
  {
   "cell_type": "code",
   "execution_count": 29,
   "metadata": {},
   "outputs": [
    {
     "data": {
      "text/plain": [
       "array([53.51590769])"
      ]
     },
     "execution_count": 29,
     "metadata": {},
     "output_type": "execute_result"
    }
   ],
   "source": [
    "y_test[0]"
   ]
  },
  {
   "cell_type": "code",
   "execution_count": 31,
   "metadata": {},
   "outputs": [
    {
     "name": "stdout",
     "output_type": "stream",
     "text": [
      "Prediction Values \n",
      "[[51.78344 ]\n",
      " [60.159718]\n",
      " [51.983276]\n",
      " [63.190327]\n",
      " [60.845356]]\n",
      "*****************\n",
      "Real Values \n",
      "[[53.51590769]\n",
      " [65.4545286 ]\n",
      " [53.51590769]\n",
      " [64.17785605]\n",
      " [65.42513582]]\n"
     ]
    }
   ],
   "source": [
    "print(\"Prediction Values \")\n",
    "print(y_pred[:5])\n",
    "print(\"*****************\")\n",
    "print(\"Real Values \")\n",
    "print(y_test[:5])"
   ]
  },
  {
   "cell_type": "code",
   "execution_count": 38,
   "metadata": {},
   "outputs": [
    {
     "data": {
      "text/plain": [
       "(1, 112, 112, 3)"
      ]
     },
     "execution_count": 38,
     "metadata": {},
     "output_type": "execute_result"
    }
   ],
   "source": [
    "X_test[0].shape"
   ]
  },
  {
   "cell_type": "code",
   "execution_count": 48,
   "metadata": {
    "scrolled": true
   },
   "outputs": [
    {
     "data": {
      "image/png": "[encoded data removed]",
      "text/plain": [
       "<Figure size 432x288 with 1 Axes>"
      ]
     },
     "metadata": {
      "needs_background": "light"
     },
     "output_type": "display_data"
    }
   ],
   "source": [
    "if (y_pred[0] >= 55 and y_pred[0] <= 70):\n",
    "    plt.imshow(X_test[0].reshape(112,112,3))\n",
    "    plt.title(\"Normal\")\n",
    "    plt.show()\n",
    "elif (y_pred[0] >= 40 and y_pred[0] <= 54):\n",
    "    plt.imshow(X_test[0].reshape(112,112,3))\n",
    "    plt.title(\"Slightly below normal\")\n",
    "    plt.show()\n",
    "elif (y_pred[0] >= 35 and y_pred[0] <= 39):\n",
    "    plt.imshow(X_test[0].reshape(112,112,3))\n",
    "    plt.title(\"Moderately below normal\")\n",
    "    plt.show()\n",
    "    \n",
    "elif (y_pred[0] < 35 ):\n",
    "    plt.imshow(X_test[0].reshape(112,112,3))\n",
    "    plt.title(\"Severely below normal\")\n",
    "    plt.show()\n",
    "    "
   ]
  }
 ],
 "metadata": {
  "kernelspec": {
   "display_name": "Python 3",
   "language": "python",
   "name": "python3"
  },
  "language_info": {
   "codemirror_mode": {
    "name": "ipython",
    "version": 3
   },
   "file_extension": ".py",
   "mimetype": "text/x-python",
   "name": "python",
   "nbconvert_exporter": "python",
   "pygments_lexer": "ipython3",
   "version": "3.8.5"
  }
 },
 "nbformat": 4,
 "nbformat_minor": 4
}
