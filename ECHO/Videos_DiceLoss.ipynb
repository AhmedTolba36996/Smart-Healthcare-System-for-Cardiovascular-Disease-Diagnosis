{
 "cells": [
  {
   "cell_type": "code",
   "execution_count": 1,
   "metadata": {},
   "outputs": [],
   "source": [
    "import numpy as np\n",
    "import os\n",
    "import pandas as pd\n",
    "import cv2\n",
    "import matplotlib.pyplot as plt\n",
    "from tqdm import tqdm\n",
    "import tensorflow as tf"
   ]
  },
  {
   "cell_type": "code",
   "execution_count": 2,
   "metadata": {},
   "outputs": [],
   "source": [
    "train_data = pd.read_csv(\"E:\\Echo Dynamic\\EchoNet-Dynamic\\FileList.csv\")"
   ]
  },
  {
   "cell_type": "code",
   "execution_count": 3,
   "metadata": {},
   "outputs": [
    {
     "data": {
      "text/html": [
       "<div>\n",
       "<style scoped>\n",
       "    .dataframe tbody tr th:only-of-type {\n",
       "        vertical-align: middle;\n",
       "    }\n",
       "\n",
       "    .dataframe tbody tr th {\n",
       "        vertical-align: top;\n",
       "    }\n",
       "\n",
       "    .dataframe thead th {\n",
       "        text-align: right;\n",
       "    }\n",
       "</style>\n",
       "<table border=\"1\" class=\"dataframe\">\n",
       "  <thead>\n",
       "    <tr style=\"text-align: right;\">\n",
       "      <th></th>\n",
       "      <th>FileName</th>\n",
       "      <th>EF</th>\n",
       "      <th>ESV</th>\n",
       "      <th>EDV</th>\n",
       "      <th>FrameHeight</th>\n",
       "      <th>FrameWidth</th>\n",
       "      <th>FPS</th>\n",
       "      <th>NumberOfFrames</th>\n",
       "      <th>Split</th>\n",
       "    </tr>\n",
       "  </thead>\n",
       "  <tbody>\n",
       "    <tr>\n",
       "      <th>0</th>\n",
       "      <td>0X100009310A3BD7FC</td>\n",
       "      <td>78.498406</td>\n",
       "      <td>14.881368</td>\n",
       "      <td>69.210534</td>\n",
       "      <td>112</td>\n",
       "      <td>112</td>\n",
       "      <td>50</td>\n",
       "      <td>174</td>\n",
       "      <td>VAL</td>\n",
       "    </tr>\n",
       "    <tr>\n",
       "      <th>1</th>\n",
       "      <td>0X1002E8FBACD08477</td>\n",
       "      <td>59.101988</td>\n",
       "      <td>40.383876</td>\n",
       "      <td>98.742884</td>\n",
       "      <td>112</td>\n",
       "      <td>112</td>\n",
       "      <td>50</td>\n",
       "      <td>215</td>\n",
       "      <td>TRAIN</td>\n",
       "    </tr>\n",
       "    <tr>\n",
       "      <th>2</th>\n",
       "      <td>0X1005D03EED19C65B</td>\n",
       "      <td>62.363798</td>\n",
       "      <td>14.267784</td>\n",
       "      <td>37.909734</td>\n",
       "      <td>112</td>\n",
       "      <td>112</td>\n",
       "      <td>50</td>\n",
       "      <td>104</td>\n",
       "      <td>TRAIN</td>\n",
       "    </tr>\n",
       "    <tr>\n",
       "      <th>3</th>\n",
       "      <td>0X10075961BC11C88E</td>\n",
       "      <td>54.545097</td>\n",
       "      <td>33.143084</td>\n",
       "      <td>72.914210</td>\n",
       "      <td>112</td>\n",
       "      <td>112</td>\n",
       "      <td>55</td>\n",
       "      <td>122</td>\n",
       "      <td>TRAIN</td>\n",
       "    </tr>\n",
       "    <tr>\n",
       "      <th>4</th>\n",
       "      <td>0X10094BA0A028EAC3</td>\n",
       "      <td>24.887742</td>\n",
       "      <td>127.581945</td>\n",
       "      <td>169.855024</td>\n",
       "      <td>112</td>\n",
       "      <td>112</td>\n",
       "      <td>52</td>\n",
       "      <td>207</td>\n",
       "      <td>VAL</td>\n",
       "    </tr>\n",
       "    <tr>\n",
       "      <th>...</th>\n",
       "      <td>...</td>\n",
       "      <td>...</td>\n",
       "      <td>...</td>\n",
       "      <td>...</td>\n",
       "      <td>...</td>\n",
       "      <td>...</td>\n",
       "      <td>...</td>\n",
       "      <td>...</td>\n",
       "      <td>...</td>\n",
       "    </tr>\n",
       "    <tr>\n",
       "      <th>10025</th>\n",
       "      <td>0X234005774F4CB5CD</td>\n",
       "      <td>51.724743</td>\n",
       "      <td>47.065329</td>\n",
       "      <td>97.493690</td>\n",
       "      <td>768</td>\n",
       "      <td>1040</td>\n",
       "      <td>50</td>\n",
       "      <td>127</td>\n",
       "      <td>TRAIN</td>\n",
       "    </tr>\n",
       "    <tr>\n",
       "      <th>10026</th>\n",
       "      <td>0X2DC68261CBCC04AE</td>\n",
       "      <td>62.187781</td>\n",
       "      <td>26.333478</td>\n",
       "      <td>69.642772</td>\n",
       "      <td>768</td>\n",
       "      <td>1024</td>\n",
       "      <td>50</td>\n",
       "      <td>66</td>\n",
       "      <td>TRAIN</td>\n",
       "    </tr>\n",
       "    <tr>\n",
       "      <th>10027</th>\n",
       "      <td>0X35291BE9AB90FB89</td>\n",
       "      <td>62.070762</td>\n",
       "      <td>49.064338</td>\n",
       "      <td>129.357561</td>\n",
       "      <td>768</td>\n",
       "      <td>1024</td>\n",
       "      <td>50</td>\n",
       "      <td>208</td>\n",
       "      <td>TRAIN</td>\n",
       "    </tr>\n",
       "    <tr>\n",
       "      <th>10028</th>\n",
       "      <td>0X6C435C1B417FDE8A</td>\n",
       "      <td>59.635257</td>\n",
       "      <td>57.721170</td>\n",
       "      <td>142.998978</td>\n",
       "      <td>768</td>\n",
       "      <td>1024</td>\n",
       "      <td>50</td>\n",
       "      <td>166</td>\n",
       "      <td>TRAIN</td>\n",
       "    </tr>\n",
       "    <tr>\n",
       "      <th>10029</th>\n",
       "      <td>0X5515B0BD077BE68A</td>\n",
       "      <td>46.019994</td>\n",
       "      <td>27.260394</td>\n",
       "      <td>50.500910</td>\n",
       "      <td>768</td>\n",
       "      <td>1024</td>\n",
       "      <td>50</td>\n",
       "      <td>126</td>\n",
       "      <td>TRAIN</td>\n",
       "    </tr>\n",
       "  </tbody>\n",
       "</table>\n",
       "<p>10030 rows × 9 columns</p>\n",
       "</div>"
      ],
      "text/plain": [
       "                 FileName         EF         ESV         EDV  FrameHeight  \\\n",
       "0      0X100009310A3BD7FC  78.498406   14.881368   69.210534          112   \n",
       "1      0X1002E8FBACD08477  59.101988   40.383876   98.742884          112   \n",
       "2      0X1005D03EED19C65B  62.363798   14.267784   37.909734          112   \n",
       "3      0X10075961BC11C88E  54.545097   33.143084   72.914210          112   \n",
       "4      0X10094BA0A028EAC3  24.887742  127.581945  169.855024          112   \n",
       "...                   ...        ...         ...         ...          ...   \n",
       "10025  0X234005774F4CB5CD  51.724743   47.065329   97.493690          768   \n",
       "10026  0X2DC68261CBCC04AE  62.187781   26.333478   69.642772          768   \n",
       "10027  0X35291BE9AB90FB89  62.070762   49.064338  129.357561          768   \n",
       "10028  0X6C435C1B417FDE8A  59.635257   57.721170  142.998978          768   \n",
       "10029  0X5515B0BD077BE68A  46.019994   27.260394   50.500910          768   \n",
       "\n",
       "       FrameWidth  FPS  NumberOfFrames  Split  \n",
       "0             112   50             174    VAL  \n",
       "1             112   50             215  TRAIN  \n",
       "2             112   50             104  TRAIN  \n",
       "3             112   55             122  TRAIN  \n",
       "4             112   52             207    VAL  \n",
       "...           ...  ...             ...    ...  \n",
       "10025        1040   50             127  TRAIN  \n",
       "10026        1024   50              66  TRAIN  \n",
       "10027        1024   50             208  TRAIN  \n",
       "10028        1024   50             166  TRAIN  \n",
       "10029        1024   50             126  TRAIN  \n",
       "\n",
       "[10030 rows x 9 columns]"
      ]
     },
     "execution_count": 3,
     "metadata": {},
     "output_type": "execute_result"
    }
   ],
   "source": [
    "train_data"
   ]
  },
  {
   "cell_type": "code",
   "execution_count": 4,
   "metadata": {},
   "outputs": [],
   "source": [
    "train_data = train_data[train_data.columns[0:2]]\n"
   ]
  },
  {
   "cell_type": "code",
   "execution_count": 5,
   "metadata": {},
   "outputs": [],
   "source": [
    "train_4CH_dir = \"E:\\\\Echo Dynamic\\\\EchoNet-Dynamic\\\\Videos_test\\\\\""
   ]
  },
  {
   "cell_type": "code",
   "execution_count": 6,
   "metadata": {},
   "outputs": [],
   "source": [
    "def crop_center_square(frame):\n",
    "    y, x = frame.shape[0:2]\n",
    "    min_dim = min(y, x)\n",
    "    start_x = (x // 2) - (min_dim // 2)\n",
    "    start_y = (y // 2) - (min_dim // 2)\n",
    "    return frame[start_y : start_y + min_dim, start_x : start_x + min_dim]\n",
    "\n",
    "\n",
    "def load_video(path, max_frames=50, resize=(112, 112)):\n",
    "    cap = cv2.VideoCapture(path)\n",
    "    frames = []\n",
    "    try:\n",
    "        while True:\n",
    "            ret, frame = cap.read()\n",
    "            if not ret:\n",
    "                break\n",
    "            frame = crop_center_square(frame)\n",
    "            frame = cv2.resize(frame, resize)\n",
    "            frame = frame[:, :, [2, 1, 0]]\n",
    "            frames.append(frame)\n",
    "\n",
    "            if len(frames) == max_frames:\n",
    "                break\n",
    "    finally:\n",
    "        cap.release()\n",
    "    return np.array(frames)"
   ]
  },
  {
   "cell_type": "code",
   "execution_count": 7,
   "metadata": {},
   "outputs": [
    {
     "name": "stdout",
     "output_type": "stream",
     "text": [
      "0X1A05DFFFCAFB253B.avi\n",
      "0X1A0A263B22CCD966.avi\n",
      "0X1A2A76BDB5B98BED.avi\n",
      "0X1A2C60147AF9FDAE.avi\n",
      "0X1A2E9496910EFF5B.avi\n",
      "0X1A3D565B371DC573.avi\n",
      "0X1A3E7BF1DFB132FB.avi\n",
      "0X1A5FAE3F9D37794E.avi\n",
      "0X1A6ACFE7B286DAFC.avi\n",
      "0X1A8D85542DBE8204.avi\n"
     ]
    }
   ],
   "source": [
    "import glob as gb\n",
    "\n",
    "videos = []\n",
    "label = []\n",
    "\n",
    "for folder in  os.listdir(train_4CH_dir) : \n",
    "    #files = gb.glob(pathname= str( train_4CH_dir+ '/*.avi'))\n",
    "    print(folder)\n",
    "    videos.append(folder)\n",
    "    label.append(train_data[train_data[\"FileName\"]==folder.split(\".\")[0]])\n",
    "    "
   ]
  },
  {
   "cell_type": "code",
   "execution_count": 8,
   "metadata": {},
   "outputs": [],
   "source": [
    "d = np.array(label)"
   ]
  },
  {
   "cell_type": "code",
   "execution_count": 9,
   "metadata": {},
   "outputs": [],
   "source": [
    "xtrain = []\n",
    "ytrain = []\n",
    "for i in range(10):\n",
    "    xtrain.append(load_video(train_4CH_dir+videos[i]))\n",
    "    #for j in range(xtrain[i].shape[0]):\n",
    "    ytrain.append(d[i][0][1])    \n",
    "        # appending the image to the train_image list\n"
   ]
  },
  {
   "cell_type": "code",
   "execution_count": 10,
   "metadata": {},
   "outputs": [
    {
     "data": {
      "text/plain": [
       "[65.14360079999999,\n",
       " 65.4545286,\n",
       " 65.42513582,\n",
       " 64.17785605,\n",
       " 56.54909473,\n",
       " 58.83346066,\n",
       " 65.75056397,\n",
       " 53.51590769,\n",
       " 51.82126873,\n",
       " 58.21378021]"
      ]
     },
     "execution_count": 10,
     "metadata": {},
     "output_type": "execute_result"
    }
   ],
   "source": [
    "ytrain"
   ]
  },
  {
   "cell_type": "code",
   "execution_count": 11,
   "metadata": {},
   "outputs": [],
   "source": [
    "X = np.array(xtrain)\n",
    "Y = np.array(ytrain)"
   ]
  },
  {
   "cell_type": "code",
   "execution_count": 12,
   "metadata": {},
   "outputs": [
    {
     "name": "stdout",
     "output_type": "stream",
     "text": [
      "10\n",
      "10\n"
     ]
    }
   ],
   "source": [
    "print(len(X))\n",
    "print(len(Y))"
   ]
  },
  {
   "cell_type": "code",
   "execution_count": 13,
   "metadata": {},
   "outputs": [
    {
     "data": {
      "text/plain": [
       "(10, 50, 112, 112, 3)"
      ]
     },
     "execution_count": 13,
     "metadata": {},
     "output_type": "execute_result"
    }
   ],
   "source": [
    "X.shape"
   ]
  },
  {
   "cell_type": "code",
   "execution_count": 14,
   "metadata": {},
   "outputs": [],
   "source": [
    "from sklearn.model_selection import train_test_split\n",
    "\n",
    "X_train, X_test, y_train, y_test = train_test_split(X, Y, random_state=42, test_size=0.2)"
   ]
  },
  {
   "cell_type": "code",
   "execution_count": 15,
   "metadata": {},
   "outputs": [
    {
     "data": {
      "text/plain": [
       "(8, 50, 112, 112, 3)"
      ]
     },
     "execution_count": 15,
     "metadata": {},
     "output_type": "execute_result"
    }
   ],
   "source": [
    "#X_train = base_model.predict(image)\n",
    "X_train.shape"
   ]
  },
  {
   "cell_type": "code",
   "execution_count": 16,
   "metadata": {},
   "outputs": [
    {
     "data": {
      "text/plain": [
       "(8,)"
      ]
     },
     "execution_count": 16,
     "metadata": {},
     "output_type": "execute_result"
    }
   ],
   "source": [
    "#X_train = base_model.predict(image)\n",
    "y_train.shape"
   ]
  },
  {
   "cell_type": "code",
   "execution_count": 17,
   "metadata": {},
   "outputs": [
    {
     "data": {
      "text/plain": [
       "(2, 50, 112, 112, 3)"
      ]
     },
     "execution_count": 17,
     "metadata": {},
     "output_type": "execute_result"
    }
   ],
   "source": [
    "X_test.shape"
   ]
  },
  {
   "cell_type": "code",
   "execution_count": 18,
   "metadata": {},
   "outputs": [
    {
     "data": {
      "text/plain": [
       "(2,)"
      ]
     },
     "execution_count": 18,
     "metadata": {},
     "output_type": "execute_result"
    }
   ],
   "source": [
    "y_test.shape"
   ]
  },
  {
   "cell_type": "code",
   "execution_count": 19,
   "metadata": {},
   "outputs": [
    {
     "data": {
      "text/plain": [
       "\"\\nimport tensorflow as tf\\nmodel = tf.keras.models.Sequential()\\nmodel.add(\\n    tf.keras.layers.TimeDistributed(\\n        tf.keras.layers.Conv2D(32, (3,3), activation='relu'), \\n        input_shape=(50,112, 112, 3) # 5 images... #CNN_LSTM\\n    )\\n)\\nmodel.add(\\n    tf.keras.layers.TimeDistributed(\\n        tf.keras.layers.GlobalAveragePooling2D() # Or Flatten()\\n    )\\n)\\nmodel.add(\\n    tf.keras.layers.LSTM(32, activation='relu', return_sequences=False)\\n)\\nmodel.add(tf.keras.layers.Dense(1, activation='linear'))\\nmodel.compile('adam', loss='mse', metrics=[tf.keras.metrics.RootMeanSquaredError()])\\n\""
      ]
     },
     "execution_count": 19,
     "metadata": {},
     "output_type": "execute_result"
    }
   ],
   "source": [
    "\"\"\"\n",
    "import tensorflow as tf\n",
    "model = tf.keras.models.Sequential()\n",
    "model.add(\n",
    "    tf.keras.layers.TimeDistributed(\n",
    "        tf.keras.layers.Conv2D(32, (3,3), activation='relu'), \n",
    "        input_shape=(50,112, 112, 3) # 5 images... #CNN_LSTM\n",
    "    )\n",
    ")\n",
    "model.add(\n",
    "    tf.keras.layers.TimeDistributed(\n",
    "        tf.keras.layers.GlobalAveragePooling2D() # Or Flatten()\n",
    "    )\n",
    ")\n",
    "model.add(\n",
    "    tf.keras.layers.LSTM(32, activation='relu', return_sequences=False)\n",
    ")\n",
    "model.add(tf.keras.layers.Dense(1, activation='linear'))\n",
    "model.compile('adam', loss='mse', metrics=[tf.keras.metrics.RootMeanSquaredError()])\n",
    "\"\"\""
   ]
  },
  {
   "cell_type": "code",
   "execution_count": 20,
   "metadata": {},
   "outputs": [],
   "source": [
    "import tensorflow \n",
    "from tensorflow.keras.layers import  Dense, LSTM\n",
    "\n",
    "\n",
    "model = tf.keras.models.Sequential()\n",
    "input_shape=(50,112, 112, 3)\n",
    "\n",
    "cnn = tensorflow.keras.applications.DenseNet169(include_top=True, weights=None, input_tensor=None, input_shape=(112, 112, 3), pooling=None, classes=1)\n",
    "# define LSTM model\n",
    "model.add(tensorflow.keras.layers.TimeDistributed(cnn, input_shape=input_shape))\n",
    "model.add(LSTM(units = 512, dropout=0.5, recurrent_dropout=0.3, return_sequences = True, input_shape = input_shape))\n",
    "model.add(LSTM(units = 512, dropout=0.5, recurrent_dropout=0.3, return_sequences = False))\n",
    "model.add(Dense(units=1, activation='sigmoid'))#Compile\n",
    "\n"
   ]
  },
  {
   "cell_type": "code",
   "execution_count": 21,
   "metadata": {},
   "outputs": [],
   "source": [
    "from tensorflow.keras import backend as K\n",
    "def dice_coef(y_true, y_pred):\n",
    "  y_true_f = K.flatten(y_true)\n",
    "  y_pred_f = K.flatten(y_pred)\n",
    "  intersection = K.sum(y_true_f * y_pred_f)\n",
    "  return (2. * intersection + 0.0001) / (K.sum(y_true_f) + K.sum(y_pred_f) + 0.0001)\n",
    "\n",
    "def dice_coef_loss(y_true, y_pred):\n",
    "  return 1 - dice_coef(y_true, y_pred)"
   ]
  },
  {
   "cell_type": "code",
   "execution_count": 23,
   "metadata": {},
   "outputs": [
    {
     "name": "stdout",
     "output_type": "stream",
     "text": [
      "Collecting tensorflow_addons\n",
      "  Downloading tensorflow_addons-0.17.0-cp38-cp38-win_amd64.whl (758 kB)\n",
      "Requirement already satisfied: packaging in c:\\users\\vip\\anaconda3\\lib\\site-packages (from tensorflow_addons) (20.4)\n",
      "Collecting typeguard>=2.7\n",
      "  Downloading typeguard-2.13.3-py3-none-any.whl (17 kB)\n",
      "Requirement already satisfied: six in c:\\users\\vip\\anaconda3\\lib\\site-packages (from packaging->tensorflow_addons) (1.15.0)\n",
      "Requirement already satisfied: pyparsing>=2.0.2 in c:\\users\\vip\\anaconda3\\lib\\site-packages (from packaging->tensorflow_addons) (2.4.7)\n",
      "Installing collected packages: typeguard, tensorflow-addons\n",
      "Successfully installed tensorflow-addons-0.17.0 typeguard-2.13.3\n"
     ]
    }
   ],
   "source": [
    "!pip install tensorflow_addons"
   ]
  },
  {
   "cell_type": "code",
   "execution_count": 24,
   "metadata": {},
   "outputs": [],
   "source": [
    "import tensorflow_addons as tfa"
   ]
  },
  {
   "cell_type": "code",
   "execution_count": 27,
   "metadata": {},
   "outputs": [],
   "source": [
    "step = tf.Variable(0, trainable=False)\n",
    "\n",
    "schedule = tf.optimizers.schedules.PiecewiseConstantDecay(\n",
    "    [10000, 15000], [1e-0, 1e-1, 1e-2])\n",
    "# lr and wd can be a function or a tensor\n",
    "lr = 1e-1 * schedule(step)\n",
    "wd = lambda: 1e-4 * schedule(step)\n",
    "\n",
    "# ...\n",
    "\n",
    "optimizer = tfa.optimizers.AdamW(learning_rate=lr, weight_decay=wd)"
   ]
  },
  {
   "cell_type": "code",
   "execution_count": 28,
   "metadata": {},
   "outputs": [],
   "source": [
    "model.compile(loss=[dice_coef_loss],optimizer=optimizer,metrics=[dice_coef])\n"
   ]
  },
  {
   "cell_type": "code",
   "execution_count": 29,
   "metadata": {},
   "outputs": [
    {
     "name": "stdout",
     "output_type": "stream",
     "text": [
      "Model: \"sequential\"\n",
      "_________________________________________________________________\n",
      " Layer (type)                Output Shape              Param #   \n",
      "=================================================================\n",
      " time_distributed (TimeDistr  (None, 50, 1)            12644545  \n",
      " ibuted)                                                         \n",
      "                                                                 \n",
      " lstm (LSTM)                 (None, 50, 512)           1052672   \n",
      "                                                                 \n",
      " lstm_1 (LSTM)               (None, 512)               2099200   \n",
      "                                                                 \n",
      " dense (Dense)               (None, 1)                 513       \n",
      "                                                                 \n",
      "=================================================================\n",
      "Total params: 15,796,930\n",
      "Trainable params: 15,638,530\n",
      "Non-trainable params: 158,400\n",
      "_________________________________________________________________\n",
      "None\n"
     ]
    }
   ],
   "source": [
    "print(model.summary())"
   ]
  },
  {
   "cell_type": "code",
   "execution_count": null,
   "metadata": {},
   "outputs": [],
   "source": [
    "#X_train = X_train.reshape(8,1,112,112,3)\n"
   ]
  },
  {
   "cell_type": "code",
   "execution_count": null,
   "metadata": {},
   "outputs": [],
   "source": [
    "#y_train.shape"
   ]
  },
  {
   "cell_type": "code",
   "execution_count": null,
   "metadata": {},
   "outputs": [],
   "source": [
    "#y_train = y_train.reshape(8,1)"
   ]
  },
  {
   "cell_type": "markdown",
   "metadata": {},
   "source": [
    "batch_size = 50\n",
    "num_epoch = 20\n",
    "#steps = len(os.listdir(train_4CH_dir))//batch_size\n",
    "history = model.fit(X_train,y_train, epochs=num_epoch, batch_size=batch_size,\n",
    "                            verbose=1)"
   ]
  },
  {
   "cell_type": "code",
   "execution_count": 30,
   "metadata": {},
   "outputs": [
    {
     "name": "stdout",
     "output_type": "stream",
     "text": [
      "Epoch 1/2\n",
      "8/8 [==============================] - 340s 37s/step - loss: -0.8442 - dice_coef: 1.8442\n",
      "Epoch 2/2\n",
      "8/8 [==============================] - 307s 38s/step - loss: -0.9675 - dice_coef: 1.9675\n"
     ]
    }
   ],
   "source": [
    "batch_size = 1\n",
    "num_epoch = 2\n",
    "#steps = len(os.listdir(train_4CH_dir))//batch_size\n",
    "history = model.fit(X_train,y_train, epochs=num_epoch, batch_size=batch_size,\n",
    "                            verbose=1)"
   ]
  },
  {
   "cell_type": "code",
   "execution_count": 32,
   "metadata": {},
   "outputs": [
    {
     "data": {
      "image/png": "[encoded data removed]",
      "text/plain": [
       "<Figure size 2160x720 with 2 Axes>"
      ]
     },
     "metadata": {
      "needs_background": "light"
     },
     "output_type": "display_data"
    }
   ],
   "source": [
    "fig, (ax1, ax2) = plt.subplots(1, 2)\n",
    "fig.set_figheight(10)\n",
    "fig.set_figwidth(30)\n",
    "ax1.plot(history.history[\"loss\"])\n",
    "ax1.set_title(\"Loss\")\n",
    "ax2.plot(history.history[\"dice_coef\"])\n",
    "ax2.set_title(\"dice_coef\")\n",
    "plt.show()"
   ]
  },
  {
   "cell_type": "code",
   "execution_count": null,
   "metadata": {},
   "outputs": [],
   "source": [
    "#X_test = X_test.reshape(2,1,112,112,3)\n",
    "#y_test = y_test.reshape(2,1)"
   ]
  },
  {
   "cell_type": "code",
   "execution_count": 33,
   "metadata": {},
   "outputs": [],
   "source": [
    "y_pred = model.predict(X_test)"
   ]
  },
  {
   "cell_type": "code",
   "execution_count": 39,
   "metadata": {},
   "outputs": [
    {
     "data": {
      "text/plain": [
       "array([1.], dtype=float32)"
      ]
     },
     "execution_count": 39,
     "metadata": {},
     "output_type": "execute_result"
    }
   ],
   "source": [
    "y_pred[0]"
   ]
  },
  {
   "cell_type": "code",
   "execution_count": 35,
   "metadata": {},
   "outputs": [
    {
     "data": {
      "text/plain": [
       "51.82126873"
      ]
     },
     "execution_count": 35,
     "metadata": {},
     "output_type": "execute_result"
    }
   ],
   "source": [
    "y_test[0]"
   ]
  },
  {
   "cell_type": "code",
   "execution_count": 36,
   "metadata": {},
   "outputs": [
    {
     "name": "stdout",
     "output_type": "stream",
     "text": [
      "Prediction Values \n",
      "[[1.]\n",
      " [1.]]\n",
      "*****************\n",
      "Real Values \n",
      "[51.82126873 65.4545286 ]\n"
     ]
    }
   ],
   "source": [
    "print(\"Prediction Values \")\n",
    "print(y_pred)\n",
    "print(\"*****************\")\n",
    "print(\"Real Values \")\n",
    "print(y_test)"
   ]
  },
  {
   "cell_type": "code",
   "execution_count": null,
   "metadata": {},
   "outputs": [],
   "source": [
    "if (y_pred[0] >= 55 and y_pred[0] <= 70):\n",
    "    plt.imshow(X_test[0])\n",
    "    plt.title(\"Normal\")\n",
    "    plt.show()\n",
    "elif (y_pred[0] >= 40 and y_pred[0] <= 54):\n",
    "    plt.imshow(X_test[0])\n",
    "    plt.title(\"Slightly below normal\")\n",
    "    plt.show()\n",
    "elif (y_pred[0] >= 35 and y_pred[0] <= 39):\n",
    "    plt.imshow(X_test[0])\n",
    "    plt.title(\"Moderately below normal\")\n",
    "    plt.show()\n",
    "    \n",
    "elif (y_pred[0] < 35 ):\n",
    "    plt.imshow(X_test[0])\n",
    "    plt.title(\"Severely below normal\")\n",
    "    plt.show()\n",
    "    "
   ]
  },
  {
   "cell_type": "code",
   "execution_count": null,
   "metadata": {},
   "outputs": [],
   "source": []
  }
 ],
 "metadata": {
  "kernelspec": {
   "display_name": "Python 3",
   "language": "python",
   "name": "python3"
  },
  "language_info": {
   "codemirror_mode": {
    "name": "ipython",
    "version": 3
   },
   "file_extension": ".py",
   "mimetype": "text/x-python",
   "name": "python",
   "nbconvert_exporter": "python",
   "pygments_lexer": "ipython3",
   "version": "3.8.5"
  }
 },
 "nbformat": 4,
 "nbformat_minor": 4
}
